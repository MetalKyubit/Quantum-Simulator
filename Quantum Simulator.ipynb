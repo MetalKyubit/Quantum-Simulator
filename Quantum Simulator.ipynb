{
 "cells": [
  {
   "cell_type": "code",
   "execution_count": 67,
   "id": "e63d8791",
   "metadata": {
    "ExecuteTime": {
     "end_time": "2022-11-28T05:31:09.182270Z",
     "start_time": "2022-11-28T05:31:09.177675Z"
    }
   },
   "outputs": [],
   "source": [
    "import numpy as np\n",
    "import matplotlib.pyplot as plt"
   ]
  },
  {
   "cell_type": "code",
   "execution_count": 68,
   "id": "ced27458",
   "metadata": {
    "ExecuteTime": {
     "end_time": "2022-11-28T05:31:09.484986Z",
     "start_time": "2022-11-28T05:31:09.476975Z"
    }
   },
   "outputs": [],
   "source": [
    "def print_sol(state):\n",
    "    q=16\n",
    "    sol = ''\n",
    "    for i in range(len(state)):\n",
    "        if np.round(state[i],4)!=0:\n",
    "            sol += str(np.round(state[i],4))+'|'+bin(i)[2:].zfill(q)+'> + '\n",
    "\n",
    "    k = len(sol)\n",
    "    sol = sol[:k-2]\n",
    "    print(sol)"
   ]
  },
  {
   "cell_type": "code",
   "execution_count": 69,
   "id": "ad06b775",
   "metadata": {
    "ExecuteTime": {
     "end_time": "2022-11-28T05:31:09.797124Z",
     "start_time": "2022-11-28T05:31:09.785018Z"
    }
   },
   "outputs": [],
   "source": [
    "\n",
    "def X_gate(initial_state, n):\n",
    "    q=16\n",
    "    final_state = [0]*(2**q)\n",
    "    \n",
    "    for i in range(len(initial_state)):\n",
    "        if initial_state[i] != 0:\n",
    "            \n",
    "            a = list(bin(i)[2:].zfill(q))\n",
    "            a[n] = bin((int(a[n]) + 1)%2)[2:]\n",
    "            str(a)\n",
    "            a = ''.join(a)\n",
    "            b = int(a,2)\n",
    "            \n",
    "            final_state[b]=initial_state[i]\n",
    "            \n",
    "    print(\"After applying X[\", n, \"]\")\n",
    "    print_sol(final_state)\n",
    "            \n",
    "    return final_state\n"
   ]
  },
  {
   "cell_type": "code",
   "execution_count": 70,
   "id": "2e4927f0",
   "metadata": {
    "ExecuteTime": {
     "end_time": "2022-11-28T05:31:10.131518Z",
     "start_time": "2022-11-28T05:31:10.121386Z"
    }
   },
   "outputs": [],
   "source": [
    "def CX_gate(initial_state, m, n):\n",
    "    q=16\n",
    "    final_state = [0]*(2**q)\n",
    "    \n",
    "    for i in range(len(initial_state)):\n",
    "        if initial_state[i] != 0:\n",
    "            \n",
    "            a = list(bin(i)[2:].zfill(q))\n",
    "            \n",
    "            if a[m]=='1':\n",
    "                \n",
    "                a[n] = bin((int(a[n]) + 1)%2)[2:]\n",
    "                str(a)\n",
    "                a = ''.join(a)\n",
    "                b = int(a,2)\n",
    "                final_state[b]=initial_state[i]\n",
    "                \n",
    "            else:\n",
    "                final_state[i]=initial_state[i]\n",
    "                \n",
    "    print(\"After applying CX[\", m, \"][\", n, \"]\")\n",
    "    print_sol(final_state)\n",
    "                \n",
    "    return final_state\n"
   ]
  },
  {
   "cell_type": "code",
   "execution_count": 71,
   "id": "2d4c919d",
   "metadata": {
    "ExecuteTime": {
     "end_time": "2022-11-28T05:31:10.472558Z",
     "start_time": "2022-11-28T05:31:10.464512Z"
    }
   },
   "outputs": [],
   "source": [
    "def H_gate(initial_state, n):\n",
    "    q=16\n",
    "    final_state = [0]*(2**q)\n",
    "    for i in range(len(initial_state)):\n",
    "        \n",
    "        if initial_state[i] !=0:\n",
    "        \n",
    "            a = list(bin(i)[2:].zfill(q))\n",
    "            if a[n] == '1':\n",
    "                \n",
    "                p1 = -1/np.sqrt(2)\n",
    "                a[n] = bin((int(a[n]) + 1)%2)[2:]\n",
    "                str(a)\n",
    "                b = ''.join(a)\n",
    "                \n",
    "            else: \n",
    "                \n",
    "                p1 = 1/np.sqrt(2)\n",
    "                a[n] = bin((int(a[n]) + 1)%2)[2:]\n",
    "                str(a)\n",
    "                b = ''.join(a)\n",
    "                \n",
    "            p2 = 1/np.sqrt(2)\n",
    "            final_state[i] += p1*initial_state[i]\n",
    "            b_int = int(b, 2)\n",
    "            final_state[b_int] += p2*initial_state[i]\n",
    "            \n",
    "    print(\"After applying H[\", n, \"]\")\n",
    "    print_sol(final_state)\n",
    "\n",
    "    return final_state"
   ]
  },
  {
   "cell_type": "code",
   "execution_count": 72,
   "id": "48d555e5",
   "metadata": {
    "ExecuteTime": {
     "end_time": "2022-11-28T05:31:11.352076Z",
     "start_time": "2022-11-28T05:31:11.343973Z"
    }
   },
   "outputs": [],
   "source": [
    "def T_gate(initial_state, n):\n",
    "    q=16\n",
    "    final_state = [0]*(2**q)\n",
    "    \n",
    "    for i in range(len(initial_state)):\n",
    "        if initial_state[i] !=0:\n",
    "            \n",
    "            a = bin(i)[2:].zfill(q)\n",
    "            \n",
    "            if a[n]=='1':\n",
    "                final_state[i] = np.exp(1.0j*np.pi/4)*initial_state[i]\n",
    "                \n",
    "            else:\n",
    "                final_state[i] = initial_state[i]\n",
    "                \n",
    "    print(\"After applying T[\", n, \"]\")\n",
    "    print_sol(final_state)\n",
    "                \n",
    "    return final_state"
   ]
  },
  {
   "cell_type": "code",
   "execution_count": 73,
   "id": "bff8ddea",
   "metadata": {
    "ExecuteTime": {
     "end_time": "2022-11-28T05:31:11.892428Z",
     "start_time": "2022-11-28T05:31:11.879844Z"
    }
   },
   "outputs": [],
   "source": [
    "def Tdg_gate(initial_state, n):\n",
    "    q=16\n",
    "    final_state = [0]*(2**q)\n",
    "    \n",
    "    for i in range(len(initial_state)):\n",
    "        if initial_state[i] !=0:\n",
    "            \n",
    "            a = bin(i)[2:].zfill(q)\n",
    "            \n",
    "            if a[n]=='1':\n",
    "                final_state[i] = np.exp(-1.0j*np.pi/4)*initial_state[i]\n",
    "                \n",
    "            else:\n",
    "                final_state[i] = initial_state[i]\n",
    "                \n",
    "    print(\"After applying Tdg[\", n, \"]\")\n",
    "    print_sol(final_state)\n",
    "                \n",
    "    return final_state"
   ]
  },
  {
   "cell_type": "code",
   "execution_count": 77,
   "id": "98b3fc49",
   "metadata": {
    "ExecuteTime": {
     "end_time": "2022-11-28T08:47:11.891819Z",
     "start_time": "2022-11-28T08:47:11.878959Z"
    },
    "code_folding": []
   },
   "outputs": [],
   "source": [
    "def simulator(initial_state, file):\n",
    "\n",
    "    file1 = open(file, 'r')\n",
    "    lines = file1.readlines()\n",
    "\n",
    "    for line in lines[4:]:\n",
    "        l1 = line.strip()\n",
    "        op, q_n = l1.split(' ')\n",
    "\n",
    "\n",
    "        if op == 'cx':\n",
    "            q_c, q_t = q_n.split(',')\n",
    "\n",
    "            sub1 = \"[\"\n",
    "            sub2 = \"]\"\n",
    "\n",
    "            # getting index of substrings\n",
    "            index1 = q_c.index(sub1)\n",
    "            index2 = q_c.index(sub2)\n",
    "            index3 = q_t.index(sub1)\n",
    "            index4 = q_t.index(sub2)\n",
    "\n",
    "\n",
    "\n",
    "            m = ''\n",
    "            # getting elements in between\n",
    "            for index in range(index1 + len(sub1) , index2):\n",
    "                m = m + q_c[index]\n",
    "            m = int(m)\n",
    "\n",
    "\n",
    "            n = ''\n",
    "            # getting elements in between\n",
    "            for index in range(index3 + len(sub1) , index4):\n",
    "                n = n + q_t[index] \n",
    "            n = int(n)\n",
    "\n",
    "            #print(op, m, '...', n)\n",
    "\n",
    "        else:\n",
    "\n",
    "            sub1 = \"[\"\n",
    "            sub2 = \"]\"\n",
    "\n",
    "            # getting index of substrings\n",
    "            index1 = q_n.index(sub1)\n",
    "            index2 = q_n.index(sub2)\n",
    "\n",
    "            n = ''\n",
    "            # getting elements in between\n",
    "            for index in range(index1 + len(sub1) , index2):\n",
    "                n = n + q_n[index]\n",
    "            n = int(n)\n",
    "\n",
    "            #print(op, n)\n",
    "\n",
    "\n",
    "        if op == 'cx':\n",
    "            initial_state = CX_gate(initial_state, m, n)\n",
    "        elif op == 'x':\n",
    "            initial_state = X_gate(initial_state, n)\n",
    "        elif op == 'h':\n",
    "            initial_state = H_gate(initial_state, n)\n",
    "        elif op == 't':\n",
    "            initial_state = T_gate(initial_state, n)\n",
    "        else:\n",
    "            initial_state = Tdg_gate(initial_state, n)\n",
    "        \n",
    "        \n",
    "\n"
   ]
  },
  {
   "cell_type": "code",
   "execution_count": 78,
   "id": "f34e8af2",
   "metadata": {
    "ExecuteTime": {
     "end_time": "2022-11-28T08:47:12.384129Z",
     "start_time": "2022-11-28T08:47:12.375480Z"
    }
   },
   "outputs": [],
   "source": [
    "initial_state = [0]*(2**16)\n",
    "initial_state[0]=1"
   ]
  },
  {
   "cell_type": "code",
   "execution_count": null,
   "id": "ee27716d",
   "metadata": {},
   "outputs": [],
   "source": []
  }
 ],
 "metadata": {
  "kernelspec": {
   "display_name": "Python 3 (ipykernel)",
   "language": "python",
   "name": "python3"
  },
  "language_info": {
   "codemirror_mode": {
    "name": "ipython",
    "version": 3
   },
   "file_extension": ".py",
   "mimetype": "text/x-python",
   "name": "python",
   "nbconvert_exporter": "python",
   "pygments_lexer": "ipython3",
   "version": "3.10.7"
  },
  "latex_envs": {
   "LaTeX_envs_menu_present": true,
   "autoclose": false,
   "autocomplete": true,
   "bibliofile": "biblio.bib",
   "cite_by": "apalike",
   "current_citInitial": 1,
   "eqLabelWithNumbers": true,
   "eqNumInitial": 1,
   "hotkeys": {
    "equation": "Ctrl-E",
    "itemize": "Ctrl-I"
   },
   "labels_anchors": false,
   "latex_user_defs": false,
   "report_style_numbering": false,
   "user_envs_cfg": false
  }
 },
 "nbformat": 4,
 "nbformat_minor": 5
}
